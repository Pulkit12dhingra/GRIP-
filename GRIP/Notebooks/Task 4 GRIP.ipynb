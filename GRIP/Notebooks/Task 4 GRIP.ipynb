{
 "cells": [
  {
   "cell_type": "code",
   "execution_count": null,
   "metadata": {},
   "outputs": [],
   "source": [
    "##Import Necessary Libraries\n",
    "import numpy as np\n",
    "import pandas as pd\n",
    "from sklearn import datasets\n",
    "from sklearn.metrics import confusion_matrix\n",
    "from sklearn.model_selection import train_test_split\n",
    "from sklearn.tree import DecisionTreeClassifier\n",
    "from sklearn.metrics import accuracy_score\n",
    "from sklearn.metrics import classification_report"
   ]
  },
  {
   "cell_type": "code",
   "execution_count": null,
   "metadata": {},
   "outputs": [],
   "source": [
    "\n",
    "iris = datasets.load_iris()\n",
    "dt = pd.DataFrame(iris.data,columns=iris.feature_names)"
   ]
  },
  {
   "cell_type": "code",
   "execution_count": null,
   "metadata": {},
   "outputs": [],
   "source": [
    "print(dt)"
   ]
  },
  {
   "cell_type": "code",
   "execution_count": null,
   "metadata": {},
   "outputs": [],
   "source": [
    "def importdata():\n",
    "    iris = datasets.load_iris()\n",
    "    dt = pd.DataFrame(iris.data,iris.target,columns=iris.feature_names)\n",
    "    dt.reset_index(inplace=True)\n",
    "    ##Printing the dataset shape\n",
    "    print(\"Datset Length\",len(dt))\n",
    "    print(\"Dataset shape\",dt.shape)\n",
    "    print(\"Dataset:\",dt.head())\n",
    "    return dt"
   ]
  },
  {
   "cell_type": "code",
   "execution_count": null,
   "metadata": {},
   "outputs": [],
   "source": [
    "##function to split the dataset\n",
    "def splitdataset(dt):\n",
    "    x=dt.values[:,1:4]\n",
    "    y=dt.values[:,0]\n",
    "    x_train,x_test,y_train,y_test=train_test_split(x,y,test_size=0.3,random_state=100)\n",
    "    return x,y,x_train,x_test,y_train,y_test"
   ]
  },
  {
   "cell_type": "code",
   "execution_count": null,
   "metadata": {},
   "outputs": [],
   "source": [
    "\n",
    "##function to perform training with giniIndex\n",
    "def train_using_gini(x_train,x_test,y_train):\n",
    "    #creating the classifier object\n",
    "    clf_gini=DecisionTreeClassifier(criterion=\"gini\",random_state=100,max_depth=3,min_samples_leaf=5)\n",
    "    #performing training\n",
    "    clf_gini.fit(x_train,y_train)\n",
    "    return clf_gini"
   ]
  },
  {
   "cell_type": "code",
   "execution_count": null,
   "metadata": {},
   "outputs": [],
   "source": [
    "\n",
    "##Function to perform training with entropy\n",
    "def train_using_entropy(x_train,x_test,y_train):\n",
    "    ##decision tree with entropy\n",
    "    clf_entropy=DecisionTreeClassifier(criterion='entropy',random_state=100,max_depth=3,min_samples_leaf=5)\n",
    "    \n",
    "    ##performing training\n",
    "    clf_entropy.fit(x_train,y_train)\n",
    "    return clf_entropy"
   ]
  },
  {
   "cell_type": "code",
   "execution_count": null,
   "metadata": {},
   "outputs": [],
   "source": [
    "\n",
    "##function to make predictions\n",
    "def prediction(x_test,clf_object):\n",
    "    ##Prediction on test with giniindex\n",
    "    y_pred=clf_object.predict(x_test)\n",
    "    print(\"Predicted values:\")\n",
    "    print(y_pred)\n",
    "    return y_pred"
   ]
  },
  {
   "cell_type": "code",
   "execution_count": null,
   "metadata": {},
   "outputs": [],
   "source": [
    "\n",
    "##Function to calculate accuracy\n",
    "def cal_accuracy(y_test,y_pred):\n",
    "    print(\"Confusion Matrix:\",confusion_matrix(y_test,y_pred))\n",
    "    print(\"Accuracy:\",accuracy_score(y_test,y_pred)*100)\n",
    "    print(\"Report:\",classification_report(y_test,y_pred))"
   ]
  },
  {
   "cell_type": "code",
   "execution_count": null,
   "metadata": {},
   "outputs": [],
   "source": [
    "\n",
    "##Driver code\n",
    "def main():\n",
    "    #Building phase\n",
    "    data=importdata()\n",
    "    x,y,x_train,x_test,y_train,y_test=splitdataset(data)\n",
    "    clf_gini=train_using_gini(x_train,x_test,y_train)\n",
    "    clf_entropy=train_using_entropy(x_train,x_test,y_train)\n",
    "    #operational phase\n",
    "    print('\\n')\n",
    "    print(\"Results using Gini Index:\")\n",
    "    \n",
    "    \n",
    "    #Prediction using gini\n",
    "    y_pred_gini=prediction(x_test,clf_gini)\n",
    "    cal_accuracy(y_test,y_pred_gini)\n",
    "    print('\\n')\n",
    "    print(\"Results using Entropy:\")\n",
    "    \n",
    "    \n",
    "    #Prediction using entropy\n",
    "    y_pred_entropy=prediction(x_test,clf_entropy)\n",
    "    cal_accuracy(y_test,y_pred_entropy)\n",
    "\n",
    "#Calling main function\n",
    "if __name__==\"__main__\":\n",
    "    main();"
   ]
  },
  {
   "cell_type": "code",
   "execution_count": null,
   "metadata": {},
   "outputs": [],
   "source": [
    "\n",
    "## Function to make tree\n",
    "from io import StringIO ## for Python 3\n",
    "from IPython.display import Image  \n",
    "from sklearn.tree import export_graphviz\n",
    "import pydotplus\n",
    "from IPython.display import Image\n",
    "y=iris.target\n",
    "Feature_cols=['sepal length (cm)','sepal width (cm)','petal length (cm)','petal width (cm)']\n",
    "x_train,x_test,y_train,y_test=train_test_split(dt,y,test_size=0.3,random_state=10)\n",
    "dtree=DecisionTreeClassifier()\n",
    "dtree.fit(x_train,y_train)\n",
    "dot_data=StringIO()\n",
    "export_graphviz(dtree,out_file=dot_data,filled=True,rounded=True,special_characters=True,feature_names=Feature_cols)\n",
    "graph=pydotplus.graph_from_dot_data(dot_data.getvalue())\n",
    "graph.write_png('Subcategory.png')\n",
    "Image(graph.create_png())"
   ]
  },
  {
   "cell_type": "code",
   "execution_count": null,
   "metadata": {},
   "outputs": [],
   "source": []
  }
 ],
 "metadata": {
  "colab": {
   "collapsed_sections": [],
   "name": "DecisionTrees.ipynb",
   "provenance": [],
   "version": "0.3.2"
  },
  "kernelspec": {
   "display_name": "Python 3",
   "language": "python",
   "name": "python3"
  },
  "language_info": {
   "codemirror_mode": {
    "name": "ipython",
    "version": 3
   },
   "file_extension": ".py",
   "mimetype": "text/x-python",
   "name": "python",
   "nbconvert_exporter": "python",
   "pygments_lexer": "ipython3",
   "version": "3.7.3"
  }
 },
 "nbformat": 4,
 "nbformat_minor": 1
}
